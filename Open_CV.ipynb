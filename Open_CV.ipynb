{
 "cells": [
  {
   "cell_type": "code",
   "execution_count": 1,
   "metadata": {},
   "outputs": [],
   "source": [
    "import numpy as np\n",
    "import cv2\n",
    "import pandas as pd\n",
    "import matplotlib.pyplot as plt\n",
    "import pytesseract\n",
    "from PIL import Image"
   ]
  },
  {
   "cell_type": "code",
   "execution_count": 2,
   "metadata": {},
   "outputs": [],
   "source": [
    "def show_image(title, *images):\n",
    "    for i in range (len(images)):\n",
    "        #cv2.imshow(title[i], images[i])\n",
    "        plt.figure(figsize = (20,10), dpi=100)\n",
    "        plt.title(title[i])\n",
    "        plt.imshow(images[i], cmap='gray')\n",
    "        plt.show()\n",
    "    #cv2.waitKey(0)\n",
    "\n",
    "def show_image2(title, *images):\n",
    "    for i in range (len(images)):\n",
    "        cv2.imshow(title[i], images[i])    \n",
    "    cv2.waitKey(0)"
   ]
  },
  {
   "cell_type": "markdown",
   "metadata": {},
   "source": [
    "## Reading Image"
   ]
  },
  {
   "cell_type": "code",
   "execution_count": null,
   "metadata": {},
   "outputs": [],
   "source": [
    "path = '../Data/Resources/Photos/cat.jpg'\n",
    "img = cv2.imread(path)\n",
    "show_image2(['cat'], img)"
   ]
  },
  {
   "cell_type": "markdown",
   "metadata": {},
   "source": [
    "## Resizing and Rescaling"
   ]
  },
  {
   "cell_type": "code",
   "execution_count": null,
   "metadata": {},
   "outputs": [],
   "source": [
    "def rescaleImage(image, scale = 0.5):\n",
    "    width = int(image.shape[1] * scale)\n",
    "    height = int(image.shape[0] * scale)\n",
    "    \n",
    "    dimension = (width, height)\n",
    "    \n",
    "    return cv2.resize(image, dimension, interpolation=cv2.INTER_AREA)"
   ]
  },
  {
   "cell_type": "code",
   "execution_count": null,
   "metadata": {},
   "outputs": [],
   "source": [
    "path = '../Data/Resources/Photos/cat_large.jpg'\n",
    "img = cv2.imread(path)\n",
    "\n",
    "resized_image = rescaleImage(img)\n",
    "show_image2(['cat'], resized_image)"
   ]
  },
  {
   "cell_type": "markdown",
   "metadata": {},
   "source": [
    "## Draw and Write on Images"
   ]
  },
  {
   "cell_type": "code",
   "execution_count": null,
   "metadata": {},
   "outputs": [],
   "source": [
    "# Creating a black image\n",
    "blank = np.zeros((500,500,3))\n",
    "\n",
    "# Green Image\n",
    "blank[:] = 0,255,0\n",
    "\n",
    "# red image \n",
    "blank[:] = 0,0,255 # BGR type\n",
    "\n",
    "# Paint the image portion\n",
    "blank[200:250,250:300] = 255,0,0\n",
    "\n",
    "show_image2(['Blank'], blank)"
   ]
  },
  {
   "cell_type": "code",
   "execution_count": null,
   "metadata": {},
   "outputs": [],
   "source": [
    "# Drawing the Rectangle\n",
    "blank = np.zeros((500,500,3))\n",
    "cv2.rectangle(blank, (0,0), (250,250), (0,255,0), thickness=2)\n",
    "show_image2(['Rectangle'], blank)"
   ]
  },
  {
   "cell_type": "code",
   "execution_count": null,
   "metadata": {},
   "outputs": [],
   "source": [
    "# Filling the Rectangle\n",
    "blank = np.zeros((500,500,3))\n",
    "cv2.rectangle(blank, (0,0), (250,250), (0,255,0), thickness=cv2.FILLED)\n",
    "show_image2(['Rectangle'], blank)"
   ]
  },
  {
   "cell_type": "code",
   "execution_count": null,
   "metadata": {},
   "outputs": [],
   "source": [
    "# Filling the Rectangle\n",
    "blank = np.zeros((500,500,3))\n",
    "cv2.rectangle(blank, (0,0), (250,250), (0,255,0), thickness=cv2.FILLED)\n",
    "show_image2(['Rectangle'], blank)"
   ]
  },
  {
   "cell_type": "code",
   "execution_count": null,
   "metadata": {},
   "outputs": [],
   "source": [
    "# Filling the Rectangle\n",
    "blank = np.zeros((500,500,3))\n",
    "cv2.rectangle(blank, (0,0), (blank.shape[1]//2,blank.shape[0]//2), (0,255,0), thickness=cv2.FILLED)\n",
    "show_image2(['Rectangle'], blank)"
   ]
  },
  {
   "cell_type": "code",
   "execution_count": null,
   "metadata": {},
   "outputs": [],
   "source": [
    "# Draw a Circle\n",
    "blank = np.zeros((500,500,3))\n",
    "cv2.circle(blank, (250,250), 40, (0,255,0), thickness=cv2.FILLED)\n",
    "show_image2(['Circle'], blank)"
   ]
  },
  {
   "cell_type": "code",
   "execution_count": null,
   "metadata": {},
   "outputs": [],
   "source": [
    "# Draw a Circle\n",
    "blank = np.zeros((500,500,3)) \n",
    "cv2.line(blank, (0,0), (blank.shape[1]//2,blank.shape[0]//2), (255,255,255), thickness=2)\n",
    "show_image2(['Line'], blank)"
   ]
  },
  {
   "cell_type": "code",
   "execution_count": null,
   "metadata": {},
   "outputs": [],
   "source": [
    "# Write Text \n",
    "blank = np.zeros((500,500,3))\n",
    "cv2.putText(blank, 'Test Message', (125,255), cv2.FONT_HERSHEY_TRIPLEX,1.0,(0,255,0), 2)\n",
    "show_image2(['Text'], blank)"
   ]
  },
  {
   "cell_type": "markdown",
   "metadata": {},
   "source": [
    "## Essential Functions in OpenCV"
   ]
  },
  {
   "cell_type": "code",
   "execution_count": null,
   "metadata": {},
   "outputs": [],
   "source": [
    "# Converting to Grayscale\n",
    "path = '../Data/Resources/Photos/park.jpg'\n",
    "img = cv2.imread(path)\n",
    "gray = cv2.cvtColor(img, cv2.COLOR_BGR2GRAY)\n",
    "show_image2('Gray', gray)"
   ]
  },
  {
   "cell_type": "code",
   "execution_count": null,
   "metadata": {},
   "outputs": [],
   "source": [
    "# Blur the Image\n",
    "blur = cv2.GaussianBlur(img, (3,3), cv2.BORDER_DEFAULT) #src, kernerl_size=Keep an odd value tuple\n",
    "show_image2(['Original','Blur'],img, blur)"
   ]
  },
  {
   "cell_type": "code",
   "execution_count": null,
   "metadata": {},
   "outputs": [],
   "source": [
    "# Edge Cascase: Find edges in the image\n",
    "canny = cv2.Canny(img, 10,400)\n",
    "show_image2(['Original','Canny'],img, canny) # Note: To reduce the edges Blur the image first"
   ]
  },
  {
   "cell_type": "code",
   "execution_count": null,
   "metadata": {},
   "outputs": [],
   "source": [
    "# Dilate the image: thicken the edges. We need a structuring element which slides over the image and add a pixel on a 'hit'\n",
    "dilate = cv2.dilate(canny,(7,7), iterations=3) # applying on canny img\n",
    "show_image2(['Canny','Dilate'],canny, dilate)"
   ]
  },
  {
   "cell_type": "code",
   "execution_count": null,
   "metadata": {},
   "outputs": [],
   "source": [
    "# Erosion: Thining an image. Generally Erosion is followed by Dilation because while reducing edges \n",
    "# desired output also sometimes get affected\n",
    "\n",
    "erosion = cv2.erode(dilate,(9,9), iterations=3) # applying on canny img\n",
    "show_image2(['Dilate', 'Erode'],dilate,erosion)"
   ]
  },
  {
   "cell_type": "code",
   "execution_count": null,
   "metadata": {},
   "outputs": [],
   "source": [
    "# Resize \n",
    "dec_size = cv2.resize(img,(500,500), interpolation=cv2.INTER_AREA) # src, dest_size: It can be any size of pixels, cv2.INTER_AREA: When Decreasing the image size\n",
    "inc_size = cv2.resize(img,(1280,720), interpolation=cv2.INTER_CUBIC) # cv2.INTER_LINEAR or cv2.INTER_CUBIC: When increasing the size\n",
    "show_image2(['Original', 'Decreased_Size', 'Increased_Size'],img,dec_size, inc_size)"
   ]
  },
  {
   "cell_type": "code",
   "execution_count": null,
   "metadata": {},
   "outputs": [],
   "source": [
    "# Croping Images\n",
    "cropped = img[50:200, 200:400]\n",
    "show_image2(['Orginal','cropped'], img, cropped)"
   ]
  },
  {
   "cell_type": "markdown",
   "metadata": {},
   "source": [
    "## Image Transformation"
   ]
  },
  {
   "cell_type": "code",
   "execution_count": null,
   "metadata": {},
   "outputs": [],
   "source": [
    "# Converting to Grayscale\n",
    "path = '../Data/Resources/Photos/park.jpg'\n",
    "img = cv2.imread(path)\n",
    "gray = cv2.cvtColor(img, cv2.COLOR_BGR2GRAY)\n",
    "show_image2('Gray', gray)"
   ]
  },
  {
   "cell_type": "code",
   "execution_count": null,
   "metadata": {},
   "outputs": [],
   "source": [
    "# Translating: Move image to up, down, left, right or the combination\n",
    "def translate(img, x, y):\n",
    "    transMat = np.float32([[1,0,x],[0,1,y]])\n",
    "    dimensions = (img.shape[1],img.shape[0])\n",
    "    return cv2.warpAffine(img, transMat, dimensions)\n",
    "\n",
    "# -x --> Left\n",
    "# -y --> Up\n",
    "# x --> Right\n",
    "# y --> Down\n",
    "\n",
    "translated = translate(img, 100, -100)\n",
    "show_image2(['Original', 'translated'], img, translated)\n"
   ]
  },
  {
   "cell_type": "code",
   "execution_count": null,
   "metadata": {},
   "outputs": [],
   "source": [
    "# Rotation\n",
    "\n",
    "def rotate(img, angle, rotPoint=None):  # rotPoint: the point around which we would like to rotate the image. Generally take center\n",
    "    (height, width) = img.shape[:2]\n",
    "    \n",
    "    if rotPoint is None:\n",
    "        rotPoint = (width//2,height//2)\n",
    "        \n",
    "    rotMat = cv2.getRotationMatrix2D(rotPoint, angle, 1.0)  # Last param= scale \n",
    "    dim = (width,height)\n",
    "    \n",
    "    return cv2.warpAffine(img, rotMat, dim)\n",
    "\n",
    "\n",
    "rotated = rotate(img, 45)  # +ve angle = anticlockwise\n",
    "show_image2(['Original', 'rotated'], img, rotated)"
   ]
  },
  {
   "cell_type": "code",
   "execution_count": null,
   "metadata": {},
   "outputs": [],
   "source": [
    "# Flip\n",
    "flip = cv2.flip(img, 0)\n",
    "show_image2(['Original', 'Flip Vertically'], img, flip)\n",
    "\n",
    "flip = cv2.flip(img, 1)\n",
    "show_image2(['Original', 'Flip Horizontally'], img, flip)\n",
    "\n",
    "flip = cv2.flip(img, -1)\n",
    "show_image2(['Original', 'Flip Vertically & Horizontally'], img, flip)"
   ]
  },
  {
   "cell_type": "markdown",
   "metadata": {},
   "source": [
    "## Contours Detection"
   ]
  },
  {
   "cell_type": "code",
   "execution_count": null,
   "metadata": {},
   "outputs": [],
   "source": [
    "# Converting to Grayscale\n",
    "path = '../Data/Resources/Photos/cats.jpg'\n",
    "img = cv2.imread(path)\n",
    "gray = cv2.cvtColor(img, cv2.COLOR_BGR2GRAY)\n",
    "show_image2('Gray', gray)"
   ]
  },
  {
   "cell_type": "code",
   "execution_count": null,
   "metadata": {},
   "outputs": [],
   "source": [
    "blank = np.zeros(img.shape, dtype='uint8')  # to draw the contours\n",
    "\n",
    "gray = cv2.cvtColor(img, cv2.COLOR_BGR2GRAY) # Convert to gray scale\n",
    "\n",
    "blur = cv2.GaussianBlur(gray, (5,5), cv2.BORDER_DEFAULT)  # Blur Image to reduce the micro edges and hence countours\n",
    "\n",
    "canny = cv2.Canny(blur, 125, 175)  # use the blured image to detect the edges\n",
    "\n",
    "# ret, thresh = cv2.threshold(gray, 125, 255, cv2.THRESH_BINARY)  # Thresholded image could also be used for detecting countours. Not recommended\n",
    "\n",
    "contours, hierarchies = cv2.findContours(canny, cv2.RETR_LIST, cv2.CHAIN_APPROX_SIMPLE)  \n",
    "# cv2.RETR_LIST: Return all the countours found\n",
    "# cv2.RETR_EXTERNAL: Returns external countours\n",
    "print(f'{len(contours)} contour(s) found!')\n",
    "\n",
    "# Drawing the detected countours on a blank image with red color, thickness=1\n",
    "cv2.drawContours(blank, contours, -1, (0,0,255), 1)\n",
    "\n",
    "show_image2('Detected Countours',blank)"
   ]
  },
  {
   "cell_type": "markdown",
   "metadata": {},
   "source": [
    "## Bluring"
   ]
  },
  {
   "cell_type": "code",
   "execution_count": 4,
   "metadata": {},
   "outputs": [],
   "source": [
    "# Converting to Grayscale\n",
    "path = '../Data/Resources/Photos/cats.jpg'\n",
    "img = cv2.imread(path)\n",
    "gray = cv2.cvtColor(img, cv2.COLOR_BGR2GRAY)\n",
    "show_image2(['Gray'], img)"
   ]
  },
  {
   "cell_type": "code",
   "execution_count": 7,
   "metadata": {},
   "outputs": [],
   "source": [
    "# Averaging: Blur the middle bit by taking average of all the surrounding bits\n",
    "average = cv2.blur(img, (7,7))\n",
    "show_image2(['Average'], average)"
   ]
  },
  {
   "cell_type": "code",
   "execution_count": 9,
   "metadata": {},
   "outputs": [],
   "source": [
    "# Gaussian: Blur by taking weighted average\n",
    "gaussian = cv2.GaussianBlur(img, (7,7), 0)\n",
    "show_image2(['gaussian','Average'], gaussian, average)"
   ]
  },
  {
   "cell_type": "code",
   "execution_count": 11,
   "metadata": {},
   "outputs": [],
   "source": [
    "# Median Blur: Blur the middle bit by taking Median of all the surrounding bits. Good for salt and pepper noise\n",
    "median = cv2.medianBlur(img, 7)\n",
    "show_image2(['gaussian','Average','median'], gaussian, average,median)"
   ]
  },
  {
   "cell_type": "code",
   "execution_count": 12,
   "metadata": {},
   "outputs": [],
   "source": [
    "# Bilateral: Preserves the edges\n",
    "bilateral = cv2.bilateralFilter(img, 10, 35, 35)  # src_img, diameter, sigmaColor=Consider number of neighbour colors , sigmaSpace= Number of pixels to consider from farther space\n",
    "show_image2(['gaussian','Average','median','bilateral'], gaussian, average, median, bilateral)"
   ]
  },
  {
   "cell_type": "markdown",
   "metadata": {},
   "source": [
    "## Bitwise Operator"
   ]
  },
  {
   "cell_type": "code",
   "execution_count": 3,
   "metadata": {},
   "outputs": [],
   "source": [
    "blank = np.zeros((400,400), dtype='uint8')\n",
    "\n",
    "rectangle = cv2.rectangle(blank.copy(), (30,30), (370,370), 255, -1)\n",
    "circle = cv2.circle(blank.copy(), (200,200), 200, 255, -1)\n",
    "\n",
    "show_image2(['Rectangle','Circle'], rectangle, circle)"
   ]
  },
  {
   "cell_type": "code",
   "execution_count": 5,
   "metadata": {},
   "outputs": [],
   "source": [
    "# bitwise AND --> intersecting regions\n",
    "bitwise_and = cv2.bitwise_and(rectangle, circle)\n",
    "show_image2(['Bitwise AND'], bitwise_and)"
   ]
  },
  {
   "cell_type": "code",
   "execution_count": 6,
   "metadata": {},
   "outputs": [],
   "source": [
    "# bitwise OR --> non-intersecting and intersecting regions\n",
    "bitwise_or = cv2.bitwise_or(rectangle, circle)\n",
    "show_image2(['Bitwise OR'], bitwise_or)"
   ]
  },
  {
   "cell_type": "code",
   "execution_count": 8,
   "metadata": {},
   "outputs": [],
   "source": [
    "# bitwise XOR --> non-intersecting regions\n",
    "bitwise_xor = cv2.bitwise_xor(rectangle, circle)\n",
    "show_image2(['Bitwise XOR'], bitwise_xor)"
   ]
  },
  {
   "cell_type": "code",
   "execution_count": 10,
   "metadata": {},
   "outputs": [],
   "source": [
    "# bitwise NOT\n",
    "bitwise_not = cv2.bitwise_not(circle)\n",
    "show_image2(['Circle NOT'], bitwise_not)"
   ]
  },
  {
   "cell_type": "markdown",
   "metadata": {},
   "source": [
    "## Masking"
   ]
  },
  {
   "cell_type": "code",
   "execution_count": 4,
   "metadata": {},
   "outputs": [],
   "source": [
    "import cv2 as cv\n",
    "\n",
    "img = cv.imread('../Data/Resources/Photos/cats.jpg')\n",
    "show_image2(['Cats'], img)"
   ]
  },
  {
   "cell_type": "code",
   "execution_count": 8,
   "metadata": {},
   "outputs": [],
   "source": [
    "blank = np.zeros((img.shape[0],img.shape[1]), dtype='uint8')  # A blank image\n",
    "circle = cv.circle(blank.copy(), (img.shape[1]//2 + 45,img.shape[0]//2), 100, 255, -1)\n",
    "rectangle = cv.rectangle(blank.copy(), (30,30), (370,370), 255, -1)\n",
    "weird_shape = cv.bitwise_and(circle,rectangle)\n",
    "show_image2(['Weird Shape'], weird_shape)"
   ]
  },
  {
   "cell_type": "code",
   "execution_count": 10,
   "metadata": {},
   "outputs": [],
   "source": [
    "masked = cv.bitwise_and(img,img,mask=weird_shape)\n",
    "show_image2(['Weird Shape Masked'], masked)"
   ]
  },
  {
   "cell_type": "markdown",
   "metadata": {},
   "source": [
    "## Computing Histogram"
   ]
  },
  {
   "cell_type": "code",
   "execution_count": 9,
   "metadata": {},
   "outputs": [
    {
     "data": {
      "text/plain": [
       "-1"
      ]
     },
     "execution_count": 9,
     "metadata": {},
     "output_type": "execute_result"
    }
   ],
   "source": [
    "img = cv.imread('../Data/Resources/Photos/cats.jpg')\n",
    "cv.imshow('Cats', img)\n",
    "\n",
    "blank = np.zeros(img.shape[:2], dtype='uint8')\n",
    "\n",
    "gray = cv.cvtColor(img, cv.COLOR_BGR2GRAY)\n",
    "# cv.imshow('Gray', gray)\n",
    "\n",
    "circle_mask = cv.circle(blank, (img.shape[1]//2,img.shape[0]//2), 100, 255, -1)\n",
    "\n",
    "masked = cv.bitwise_and(img,img,mask=circle_mask)\n",
    "cv.imshow('Mask', masked)\n",
    "\n",
    "cv.waitKey(0)"
   ]
  },
  {
   "cell_type": "code",
   "execution_count": 17,
   "metadata": {},
   "outputs": [
    {
     "data": {
      "image/png": "[encoded data removed]",
      "text/plain": [
       "<Figure size 432x288 with 1 Axes>"
      ]
     },
     "metadata": {
      "needs_background": "light"
     },
     "output_type": "display_data"
    }
   ],
   "source": [
    "# GRayscale histogram\n",
    "gray_hist = cv.calcHist([gray], [0], circle_mask, [256], [0,256] )  # Calculating the histogram for circle_mask\n",
    "plt.figure()\n",
    "plt.title('Grayscale Histogram')\n",
    "plt.xlabel('Bins')\n",
    "plt.ylabel('# of pixels')\n",
    "plt.plot(gray_hist)\n",
    "plt.xlim([0,256])\n",
    "plt.show()\n"
   ]
  },
  {
   "cell_type": "code",
   "execution_count": 8,
   "metadata": {},
   "outputs": [
    {
     "data": {
      "image/png": "[encoded data removed]",
      "text/plain": [
       "<Figure size 432x288 with 1 Axes>"
      ]
     },
     "metadata": {
      "needs_background": "light"
     },
     "output_type": "display_data"
    }
   ],
   "source": [
    "# Colour Histogram\n",
    "plt.figure()\n",
    "plt.title('Colour Histogram')\n",
    "plt.xlabel('Bins')\n",
    "plt.ylabel('# of pixels')\n",
    "colors = ('b', 'g', 'r')\n",
    "for i,col in enumerate(colors):\n",
    "    hist = cv.calcHist([img], [i], circle_mask, [256], [0,256])\n",
    "    plt.plot(hist, color=col)\n",
    "    plt.xlim([0,256])\n",
    "\n",
    "plt.show()"
   ]
  },
  {
   "cell_type": "markdown",
   "metadata": {},
   "source": [
    "## Edge Detection"
   ]
  },
  {
   "cell_type": "code",
   "execution_count": 18,
   "metadata": {},
   "outputs": [
    {
     "data": {
      "text/plain": [
       "-1"
      ]
     },
     "execution_count": 18,
     "metadata": {},
     "output_type": "execute_result"
    }
   ],
   "source": [
    "import cv2 as cv\n",
    "import numpy as np\n",
    "\n",
    "img = cv.imread('../Data/Resources/Photos/cats.jpg')\n",
    "cv.imshow('Cats', img)\n",
    "\n",
    "gray = cv.cvtColor(img, cv.COLOR_BGR2GRAY)\n",
    "cv.imshow('Gray', gray)\n",
    "\n",
    "# Laplacian: More smudged picture\n",
    "lap = cv.Laplacian(gray, cv.CV_64F)\n",
    "lap = np.uint8(np.absolute(lap))\n",
    "cv.imshow('Laplacian', lap)\n",
    "\n",
    "# Sobel: Calculates edges in X and Y direction\n",
    "sobelx = cv.Sobel(gray, cv.CV_64F, 1, 0)\n",
    "sobely = cv.Sobel(gray, cv.CV_64F, 0, 1)\n",
    "combined_sobel = cv.bitwise_or(sobelx, sobely)\n",
    "\n",
    "cv.imshow('Sobel X', sobelx)\n",
    "cv.imshow('Sobel Y', sobely)\n",
    "cv.imshow('Combined Sobel', combined_sobel)\n",
    "\n",
    "canny = cv.Canny(gray, 150, 175)\n",
    "cv.imshow('Canny', canny)\n",
    "cv.waitKey(0)"
   ]
  },
  {
   "cell_type": "markdown",
   "metadata": {},
   "source": [
    "## Backup Script\n",
    "*Note: From Other project*"
   ]
  },
  {
   "cell_type": "code",
   "execution_count": null,
   "metadata": {},
   "outputs": [],
   "source": [
    "def dec_size(img):\n",
    "    return cv2.resize(img,(1024,1280), interpolation=cv2.INTER_AREA)"
   ]
  },
  {
   "cell_type": "code",
   "execution_count": null,
   "metadata": {},
   "outputs": [],
   "source": [
    "img = cv2.imread(img_path)\n",
    "img = dec_size(img)\n",
    "imgray = cv2.cvtColor(img, cv2.COLOR_BGR2GRAY)\n",
    "show_image2(['Gray'], imgray)"
   ]
  },
  {
   "cell_type": "code",
   "execution_count": null,
   "metadata": {},
   "outputs": [],
   "source": [
    "#blur = cv2.GaussianBlur(imgray, (7,7), cv2.BORDER_DEFAULT)\n",
    "blur = cv2.bilateralFilter(imgray, 5, 1, 1)\n",
    "#median = cv2.medianBlur(imgray, 9)\n",
    "\n",
    "canny = cv2.Canny(blur, 150,200)\n",
    "#ret,thresh = cv2.threshold(imgray,127,255,0)\n",
    "\n",
    "contours, hierarchy = cv2.findContours(canny, cv2.RETR_TREE, cv2.CHAIN_APPROX_SIMPLE)\n",
    "print(f'{len(contours)} contour(s) found!')\n",
    "\n",
    "#show_image(['Canny'], canny)"
   ]
  },
  {
   "cell_type": "code",
   "execution_count": null,
   "metadata": {},
   "outputs": [],
   "source": [
    "hierarchy = hierarchy[0]  #  get the actual inner list of hierarchy descriptions"
   ]
  },
  {
   "cell_type": "code",
   "execution_count": null,
   "metadata": {},
   "outputs": [],
   "source": [
    "# For each contour, find the bounding rectangle and draw it\n",
    "\n",
    "for component in zip(contours, hierarchy):\n",
    "    currentContour = component[0]\n",
    "    currentHierarchy = component[1]\n",
    "    x,y,w,h = cv2.boundingRect(currentContour)\n",
    "    \n",
    "    if currentHierarchy[3] < 0:  # Considering only external countours\n",
    "        # These are the outermost parent components\n",
    "        cv2.rectangle(img,(x,y),(x+w,y+h),(0,255,0),2)\n",
    "\n",
    "show_image(['Image'],img)"
   ]
  }
 ],
 "metadata": {
  "kernelspec": {
   "display_name": "Python 3",
   "language": "python",
   "name": "python3"
  },
  "language_info": {
   "codemirror_mode": {
    "name": "ipython",
    "version": 3
   },
   "file_extension": ".py",
   "mimetype": "text/x-python",
   "name": "python",
   "nbconvert_exporter": "python",
   "pygments_lexer": "ipython3",
   "version": "3.8.5"
  }
 },
 "nbformat": 4,
 "nbformat_minor": 4
}
